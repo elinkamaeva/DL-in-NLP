{
  "cells": [
    {
      "cell_type": "markdown",
      "metadata": {
        "id": "IQwlunyE86kE"
      },
      "source": [
        "# 1. Практическое задание. Обучение полносвязной нейронной сети.\n",
        "\n",
        "**ФИО**: Камаева Элина Петровна\n",
        "\n",
        "### Большая просьба\n",
        "\n",
        "Называйте файл hw1_Фамилия.ipynb"
      ]
    },
    {
      "cell_type": "code",
      "execution_count": 1,
      "metadata": {
        "id": "UyCGfNgA86kF"
      },
      "outputs": [],
      "source": [
        "import numpy as np\n",
        "import torch\n",
        "import cv2\n",
        "\n",
        "from glob import glob\n",
        "from collections import OrderedDict\n",
        "from matplotlib import pyplot as plt\n",
        "\n",
        "from torch import nn\n",
        "from torch.autograd import Function\n",
        "from torch.autograd import gradcheck\n",
        "from torch.optim import Optimizer, Adam\n",
        "from torch.utils.data import Dataset, DataLoader\n",
        "from torchvision import datasets\n",
        "from torchvision import transforms"
      ]
    },
    {
      "cell_type": "markdown",
      "metadata": {
        "id": "uFaWrLT4GkfY"
      },
      "source": [
        "## 1. Загрузка данных (2 балла)"
      ]
    },
    {
      "cell_type": "markdown",
      "metadata": {
        "id": "R930jTYMG6nB"
      },
      "source": [
        "Если вам требуется работать с каким-нибубь набором данных (dataset), то прежде всего проверьте нет ли его среди встроенных наборов данных https://pytorch.org/vision/stable/datasets.html.\n",
        "\n",
        "В текущем домашнем задании мы будем работать с набором данных FashionMNIST. Это не совсем про тексты, но зато он численный и его можно вытянуть в вектор. Это легко и полезно, чтобы отработать разные приемы. Он присутствует в списке встроенных наборов данных, однако мы воспользуемся реализацией только для удобного и быстрого способа скачать наборы данных. Ниже предлагается реализовать собственный класс для считывания, обработки и упаковки данных."
      ]
    },
    {
      "cell_type": "code",
      "execution_count": 2,
      "metadata": {
        "id": "LauGpMvGF5qr",
        "colab": {
          "base_uri": "https://localhost:8080/"
        },
        "outputId": "ef88742a-b72c-41ee-ceab-fd98fd79d4c6"
      },
      "outputs": [
        {
          "output_type": "stream",
          "name": "stdout",
          "text": [
            "Downloading http://fashion-mnist.s3-website.eu-central-1.amazonaws.com/train-images-idx3-ubyte.gz\n",
            "Downloading http://fashion-mnist.s3-website.eu-central-1.amazonaws.com/train-images-idx3-ubyte.gz to data/FashionMNIST/raw/train-images-idx3-ubyte.gz\n"
          ]
        },
        {
          "output_type": "stream",
          "name": "stderr",
          "text": [
            "100%|██████████| 26421880/26421880 [00:00<00:00, 119199577.69it/s]\n"
          ]
        },
        {
          "output_type": "stream",
          "name": "stdout",
          "text": [
            "Extracting data/FashionMNIST/raw/train-images-idx3-ubyte.gz to data/FashionMNIST/raw\n",
            "\n",
            "Downloading http://fashion-mnist.s3-website.eu-central-1.amazonaws.com/train-labels-idx1-ubyte.gz\n",
            "Downloading http://fashion-mnist.s3-website.eu-central-1.amazonaws.com/train-labels-idx1-ubyte.gz to data/FashionMNIST/raw/train-labels-idx1-ubyte.gz\n"
          ]
        },
        {
          "output_type": "stream",
          "name": "stderr",
          "text": [
            "100%|██████████| 29515/29515 [00:00<00:00, 99995866.37it/s]\n"
          ]
        },
        {
          "output_type": "stream",
          "name": "stdout",
          "text": [
            "Extracting data/FashionMNIST/raw/train-labels-idx1-ubyte.gz to data/FashionMNIST/raw\n",
            "\n",
            "Downloading http://fashion-mnist.s3-website.eu-central-1.amazonaws.com/t10k-images-idx3-ubyte.gz\n",
            "Downloading http://fashion-mnist.s3-website.eu-central-1.amazonaws.com/t10k-images-idx3-ubyte.gz to data/FashionMNIST/raw/t10k-images-idx3-ubyte.gz\n"
          ]
        },
        {
          "output_type": "stream",
          "name": "stderr",
          "text": [
            "100%|██████████| 4422102/4422102 [00:00<00:00, 64054123.49it/s]\n"
          ]
        },
        {
          "output_type": "stream",
          "name": "stdout",
          "text": [
            "Extracting data/FashionMNIST/raw/t10k-images-idx3-ubyte.gz to data/FashionMNIST/raw\n",
            "\n",
            "Downloading http://fashion-mnist.s3-website.eu-central-1.amazonaws.com/t10k-labels-idx1-ubyte.gz\n",
            "Downloading http://fashion-mnist.s3-website.eu-central-1.amazonaws.com/t10k-labels-idx1-ubyte.gz to data/FashionMNIST/raw/t10k-labels-idx1-ubyte.gz\n"
          ]
        },
        {
          "output_type": "stream",
          "name": "stderr",
          "text": [
            "100%|██████████| 5148/5148 [00:00<00:00, 19452501.79it/s]"
          ]
        },
        {
          "output_type": "stream",
          "name": "stdout",
          "text": [
            "Extracting data/FashionMNIST/raw/t10k-labels-idx1-ubyte.gz to data/FashionMNIST/raw\n",
            "\n"
          ]
        },
        {
          "output_type": "stream",
          "name": "stderr",
          "text": [
            "\n"
          ]
        }
      ],
      "source": [
        "training_data = datasets.FashionMNIST(\n",
        "    root=\"data\",\n",
        "    train=True,\n",
        "    download=True\n",
        ")\n",
        "\n",
        "test_data = datasets.FashionMNIST(\n",
        "    root=\"data\",\n",
        "    train=False,\n",
        "    download=True\n",
        ")"
      ]
    },
    {
      "cell_type": "markdown",
      "metadata": {
        "id": "RIT32OCMaLLP"
      },
      "source": [
        "Воспользуемся функцией загрузки данных из репозитория наборов данных."
      ]
    },
    {
      "cell_type": "code",
      "execution_count": 3,
      "metadata": {
        "id": "Fm_cf_hEIapm",
        "colab": {
          "base_uri": "https://localhost:8080/"
        },
        "outputId": "8f7f5d14-5ead-435b-c9aa-048b019021ff"
      },
      "outputs": [
        {
          "output_type": "stream",
          "name": "stdout",
          "text": [
            "t10k-images-idx3-ubyte\t   t10k-labels-idx1-ubyte.gz   train-labels-idx1-ubyte\n",
            "t10k-images-idx3-ubyte.gz  train-images-idx3-ubyte     train-labels-idx1-ubyte.gz\n",
            "t10k-labels-idx1-ubyte\t   train-images-idx3-ubyte.gz\n"
          ]
        }
      ],
      "source": [
        "! ls data/FashionMNIST/raw"
      ]
    },
    {
      "cell_type": "code",
      "execution_count": 4,
      "metadata": {
        "id": "-xnY5xk1KBg2"
      },
      "outputs": [],
      "source": [
        "#https://github.com/zalandoresearch/fashion-mnist/blob/master/utils/mnist_reader.py\n",
        "\n",
        "def load_mnist(path, kind='train'):\n",
        "    import os\n",
        "    import gzip\n",
        "    import numpy as np\n",
        "\n",
        "    \"\"\"Load MNIST data from `path`\"\"\"\n",
        "    labels_path = os.path.join(path,\n",
        "                               '%s-labels-idx1-ubyte.gz'\n",
        "                               % kind)\n",
        "    images_path = os.path.join(path,\n",
        "                               '%s-images-idx3-ubyte.gz'\n",
        "                               % kind)\n",
        "\n",
        "    with gzip.open(labels_path, 'rb') as lbpath:\n",
        "        labels = np.frombuffer(lbpath.read(), dtype=np.uint8,\n",
        "                               offset=8)\n",
        "\n",
        "    with gzip.open(images_path, 'rb') as imgpath:\n",
        "        images = np.frombuffer(imgpath.read(), dtype=np.uint8,\n",
        "                               offset=16).reshape(len(labels), 784)\n",
        "\n",
        "    return images, labels"
      ]
    },
    {
      "cell_type": "markdown",
      "metadata": {
        "id": "qHIlWRV0aZnA"
      },
      "source": [
        "Для удобства PyTorch предоставляет ряд базовых классов `Dataset, DataLoader`, от которых предлагается отнаследоваться при разработке пользовательских классов. Базовый класс `Dataset` используется для загрузки и обработки данных, класс `DataLoader` используется для управления процессом загрузки данных, позволяет в многопоточном режиме загружать данные и упаковывать их.\n",
        "Эти вспомогательные классы находятся в модуле `torch.utils.data`.\n",
        "\n",
        "При наследовании от класса `torch.utils.data.Dataset` требуется переопределить метод `__len__`, который возвращает количество примеров в наборе данных, а также метод `__getitem__`, который позволяет получить доступ к примеру из набора данных по индексу."
      ]
    },
    {
      "cell_type": "markdown",
      "metadata": {
        "id": "3jf2e5cPbJV2"
      },
      "source": [
        "Реализуем класс для FasionMnist.\n",
        "\n",
        "Элементами датасета должны являться пары '(np.array, int)', массив имеет размерность `(28, 28)`, тип элемента `np.float32`."
      ]
    },
    {
      "cell_type": "code",
      "execution_count": 5,
      "metadata": {
        "id": "snTBHRTQI1bc"
      },
      "outputs": [],
      "source": [
        "import os\n",
        "\n",
        "class FashionMnist(Dataset):\n",
        "    def __init__(self, path, train=True, image_transform=None,\n",
        "                 label_transform=None):\n",
        "\n",
        "        ### YOUR CODE HERE\n",
        "        ### LOAD IMAGES AND LABELS WITH FUNCTION\n",
        "        kind = 'train' if train else 't10k'\n",
        "        images, labels = load_mnist(path, kind=kind)\n",
        "\n",
        "        # Преобразование изображений обратно в 2D формат\n",
        "        self.images = images.reshape(-1, 28, 28).astype(np.float32)\n",
        "        self.labels = labels\n",
        "\n",
        "\n",
        "        ### ALSO PROVIDE TRANSFORMS TO APPLY\n",
        "        self.image_transform = image_transform\n",
        "        self.label_transform = label_transform\n",
        "\n",
        "\n",
        "    def __len__(self,):\n",
        "\n",
        "        ### YOUR CODE\n",
        "        # RETURN LENGTH OF DATASET\n",
        "        return len(self.images)\n",
        "\n",
        "\n",
        "    def __getitem__(self, idx):\n",
        "\n",
        "\n",
        "        ### YOUR CODE HERE\n",
        "        ### APPLY TRANSFORMS AND RETURN ELEMENTS\n",
        "\n",
        "        # Получение изображения и метки\n",
        "        image = self.images[idx]\n",
        "        label = self.labels[idx]\n",
        "\n",
        "        # Применение преобразований\n",
        "        if self.image_transform:\n",
        "            image = self.image_transform(image)\n",
        "        if self.label_transform:\n",
        "            label = self.label_transform(label)\n",
        "\n",
        "        return image, label"
      ]
    },
    {
      "cell_type": "code",
      "execution_count": 6,
      "metadata": {
        "id": "XVGv_2zBNfpz"
      },
      "outputs": [],
      "source": [
        "test_dataset = FashionMnist(\"data/FashionMNIST/raw\", train=False)\n",
        "train_dataset = FashionMnist(\"data/FashionMNIST/raw\")"
      ]
    },
    {
      "cell_type": "code",
      "source": [
        "len(test_dataset), len(train_dataset)"
      ],
      "metadata": {
        "colab": {
          "base_uri": "https://localhost:8080/"
        },
        "id": "LYFOxjRU6V5f",
        "outputId": "87143969-8462-49ed-d26c-7f50e787d78b"
      },
      "execution_count": 7,
      "outputs": [
        {
          "output_type": "execute_result",
          "data": {
            "text/plain": [
              "(10000, 60000)"
            ]
          },
          "metadata": {},
          "execution_count": 7
        }
      ]
    },
    {
      "cell_type": "markdown",
      "metadata": {
        "id": "JciETIfndiGR"
      },
      "source": [
        "Визуализируйте случайные элементы набора данных."
      ]
    },
    {
      "cell_type": "code",
      "execution_count": 8,
      "metadata": {
        "id": "wBky4UtmOS71",
        "colab": {
          "base_uri": "https://localhost:8080/",
          "height": 271
        },
        "outputId": "7edbcfda-a4da-44d7-b81e-8e56b87b1554"
      },
      "outputs": [
        {
          "output_type": "stream",
          "name": "stdout",
          "text": [
            "Случайные сэмплы из обучающего датасета:\n"
          ]
        },
        {
          "output_type": "display_data",
          "data": {
            "text/plain": [
              "<Figure size 500x100 with 5 Axes>"
            ],
            "image/png": "[encoded data removed]"
          },
          "metadata": {}
        },
        {
          "output_type": "stream",
          "name": "stdout",
          "text": [
            "Случайные сэмплы из тестового датасета:\n"
          ]
        },
        {
          "output_type": "display_data",
          "data": {
            "text/plain": [
              "<Figure size 500x100 with 5 Axes>"
            ],
            "image/png": "[encoded data removed]"
          },
          "metadata": {}
        }
      ],
      "source": [
        "### YOUR CODE HERE\n",
        "import random\n",
        "\n",
        "def visualize_samples(dataset, indices):\n",
        "    \"\"\" Визуализация образцов из датасета. \"\"\"\n",
        "    fig, axes = plt.subplots(1, len(indices), figsize=(5, 1))\n",
        "    for idx, ax in zip(indices, axes):\n",
        "        image, label = dataset[idx]\n",
        "        ax.imshow(image, cmap='gray')\n",
        "        ax.set_title(f'Label: {label}')\n",
        "        ax.axis('off')\n",
        "    plt.show()\n",
        "\n",
        "# Выбор случайных элементов набора\n",
        "num_samples = 5\n",
        "random_indices_train = random.sample(range(len(train_dataset)), num_samples)\n",
        "random_indices_test = random.sample(range(len(test_dataset)), num_samples)\n",
        "\n",
        "# Визуализация образцов из обучающего набора\n",
        "print(\"Случайные сэмплы из обучающего датасета:\")\n",
        "visualize_samples(train_dataset, random_indices_train)\n",
        "\n",
        "# Визуализация образцов из тестового набора\n",
        "print(\"Случайные сэмплы из тестового датасета:\")\n",
        "visualize_samples(test_dataset, random_indices_test)"
      ]
    },
    {
      "cell_type": "markdown",
      "metadata": {
        "id": "320RvzL7PZrI"
      },
      "source": [
        "В конструктор `Dataset` можно передать объект `torchvision.transforms`, который позволяет преобразовать исходные данные. Преобразование `torchvision.transforms.ToTensor` позволяет преобразоать данные из типа `PIL Image` и `numpy.float32` в тип `torch.float32`\n",
        "\n",
        "Реализуйте собственную поддержку преобразований в `FashionMnist`. Проверьте, что приведение типов работает корректно."
      ]
    },
    {
      "cell_type": "code",
      "execution_count": 9,
      "metadata": {
        "id": "pQsGbfXUTxcx"
      },
      "outputs": [],
      "source": [
        "class ToTensor:\n",
        "    \"\"\"Convert ndarrays in sample to Tensors.\"\"\"\n",
        "\n",
        "    def __call__(self, sample):\n",
        "        ### YOUR CODE HERE\n",
        "        if isinstance(sample, np.ndarray):\n",
        "            # Преобразование массива NumPy в тензор PyTorch\n",
        "            return torch.from_numpy(sample)\n",
        "        else:\n",
        "            raise TypeError(\"Input should be a numpy.ndarray.\")\n",
        "\n",
        "\n",
        "# SHOULD BE CALLABLE ToTensor(x)"
      ]
    },
    {
      "cell_type": "code",
      "execution_count": 10,
      "metadata": {
        "id": "7BpFQ_Y2PoeI"
      },
      "outputs": [],
      "source": [
        "transform = ToTensor()\n",
        "\n",
        "### YOUR CODE HERE\n",
        "# init dataset with your transform and check datatype\n",
        "train_dataset = FashionMnist(\"data/FashionMNIST/raw\", image_transform=transform)\n",
        "test_dataset = FashionMnist(\"data/FashionMNIST/raw\", train=False, image_transform=transform)\n",
        "\n",
        "# Проверка типа данных\n",
        "image, label = train_dataset[0]\n",
        "assert image.dtype == torch.float32, \"Преобразование NumPy не работает корректно\""
      ]
    },
    {
      "cell_type": "markdown",
      "metadata": {
        "id": "5Ltavx0QUMnm"
      },
      "source": [
        "Элементы набора данных могут быть объединены в пакеты (batch) явно и неявно. Если данные могут быть сконкатенированы или обЪединены каким-нибудь тривиальным способом, то можно не передавать никаких дополнительных парамертов в `torch.utils.data.Dataloader`."
      ]
    },
    {
      "cell_type": "code",
      "execution_count": 11,
      "metadata": {
        "id": "Cizxx6m0VAI7"
      },
      "outputs": [],
      "source": [
        "test_dataloader = DataLoader(test_dataset, batch_size=15, num_workers=2, shuffle=True)\n",
        "batch = next(iter(test_dataloader))"
      ]
    },
    {
      "cell_type": "code",
      "execution_count": 12,
      "metadata": {
        "id": "SIZiPrBgVwGA",
        "colab": {
          "base_uri": "https://localhost:8080/"
        },
        "outputId": "fd23987b-b2a5-49bb-803d-80f2c27301f3"
      },
      "outputs": [
        {
          "output_type": "stream",
          "name": "stdout",
          "text": [
            "The length of the batch is 2\n",
            "The shape of the batch[0] is torch.Size([15, 28, 28])\n"
          ]
        }
      ],
      "source": [
        "print(f\"The length of the batch is {len(batch)}\")\n",
        "print(f\"The shape of the batch[0] is {batch[0].shape}\")"
      ]
    },
    {
      "cell_type": "markdown",
      "metadata": {
        "id": "BCggRyOQWVIx"
      },
      "source": [
        "Однако, если наша структура данных не позволяет нам использовать объединение по умолчанию, то можно написать собственную функцию, которая будет пакетировать данные.\n",
        "\n",
        "Реализуйте функцию, преобразующую последовательность элементов массива в пакет (batch)."
      ]
    },
    {
      "cell_type": "code",
      "execution_count": 13,
      "metadata": {
        "id": "nQVh93fmWSjA"
      },
      "outputs": [],
      "source": [
        "### YOUR CODE HERE\n",
        "### WRITE A COLLATE FUNCTION and use it with dataloaders\n",
        "\n",
        "def collate_fn(batch):\n",
        "    \"\"\" Собирает пакет из отдельных элементов датасета. \"\"\"\n",
        "    images, labels = zip(*batch)  # Разбиение пакета на изображения и метки\n",
        "    images = torch.stack(images, dim=0)  # Объединение всех изображений в один тензор\n",
        "    labels = torch.tensor(labels, dtype=torch.long)  # Преобразование меток в тензор\n",
        "    return images, labels"
      ]
    },
    {
      "cell_type": "markdown",
      "metadata": {
        "id": "Wij6F-vpe7KS"
      },
      "source": [
        "Убедитесть, что все работает корректно."
      ]
    },
    {
      "cell_type": "code",
      "execution_count": 14,
      "metadata": {
        "id": "4dDtlvlCXNbW"
      },
      "outputs": [],
      "source": [
        "test_dataloader = DataLoader(test_dataset, batch_size=15, num_workers=2, shuffle=True, collate_fn=collate_fn)\n",
        "train_dataloader = DataLoader(train_dataset, batch_size=15, num_workers=2, shuffle=True, collate_fn=collate_fn)\n",
        "batch = next(iter(test_dataloader))"
      ]
    },
    {
      "cell_type": "code",
      "execution_count": 15,
      "metadata": {
        "id": "PFN00IyZXYaF",
        "colab": {
          "base_uri": "https://localhost:8080/"
        },
        "outputId": "5e887c91-9724-45a6-8316-e13071d98a6e"
      },
      "outputs": [
        {
          "output_type": "stream",
          "name": "stdout",
          "text": [
            "The length of the batch is 2\n",
            "The shape of the batch[0] is torch.Size([15, 28, 28])\n"
          ]
        }
      ],
      "source": [
        "print(f\"The length of the batch is {len(batch)}\")\n",
        "print(f\"The shape of the batch[0] is {batch[0].shape}\")"
      ]
    },
    {
      "cell_type": "markdown",
      "metadata": {
        "id": "VHcumwuF86kL"
      },
      "source": [
        "## 2. Реализация модулей нейронной сети (3 балла)\n",
        "\n",
        "В этом разделе мы полностью реализуем модули для полносвязанной сети.\n",
        "\n",
        "Для начала нам понадобится реализовать прямой и обратный проход через слои.\n",
        "\n",
        "Наши слои будут соответствовать следующему интерфейсу (на примере \"тождественного\" слоя):"
      ]
    },
    {
      "cell_type": "markdown",
      "metadata": {
        "id": "zzhCW5HcfmKd"
      },
      "source": [
        "Сначала, мы реализуем функцию и её градиент."
      ]
    },
    {
      "cell_type": "code",
      "execution_count": 16,
      "metadata": {
        "id": "rcqeFXxsFGQO"
      },
      "outputs": [],
      "source": [
        "class IdentityFunction(Function):\n",
        "    \"\"\"\n",
        "    We can implement our own custom autograd Functions by subclassing\n",
        "    torch.autograd.Function and implementing the forward and backward passes\n",
        "    which operate on Tensors.\n",
        "    \"\"\"\n",
        "    @staticmethod\n",
        "    def forward(ctx, input):\n",
        "        \"\"\"\n",
        "        In the forward pass we receive a Tensor containing the input and return\n",
        "        a Tensor containing the output. ctx is a context object that can be used\n",
        "        to stash information for backward computation. You can cache arbitrary\n",
        "        objects for use in the backward pass using the ctx.save_for_backward method.\n",
        "        \"\"\"\n",
        "        return input\n",
        "\n",
        "    @staticmethod\n",
        "    def backward(ctx, grad_output):\n",
        "        \"\"\"\n",
        "        In the backward pass we receive a Tensor containing the gradient of the loss\n",
        "        with respect to the output, and we need to compute the gradient of the loss\n",
        "        with respect to the input.\n",
        "        \"\"\"\n",
        "        return grad_output"
      ]
    },
    {
      "cell_type": "markdown",
      "metadata": {
        "id": "jc6Rtczffxv4"
      },
      "source": [
        "Разработанную функцию обернем классом `IdentityLayer`, все слои в `PyTorch` должны быть наследниками базового класса `nn.Module()`\n"
      ]
    },
    {
      "cell_type": "code",
      "execution_count": 17,
      "metadata": {
        "id": "SiqeRVcM86kM"
      },
      "outputs": [],
      "source": [
        "class IdentityLayer(nn.Module):\n",
        "    def __init__(self):\n",
        "        # An identity layer does nothing\n",
        "        super().__init__()\n",
        "        self.identity = IdentityFunction.apply\n",
        "\n",
        "    def forward(self, inp):\n",
        "        # An identity layer just returns whatever it gets as input.\n",
        "        return self.identity(inp)"
      ]
    },
    {
      "cell_type": "markdown",
      "metadata": {
        "id": "N4IoM_pX86kQ"
      },
      "source": [
        "\n",
        "### 2.1 Функция активации ReLU\n",
        "Для начала реализуем функцию активации, слой нелинейности `ReLU(x) = max(x, 0)`. Параметров у слоя нет. Метод `forward` должен вернуть результат поэлементного применения `ReLU` к входному массиву, метод `backward` - градиент функции потерь по входу слоя. В нуле будем считать производную равной 0. Обратите внимание, что при обратном проходе могут понадобиться величины, посчитанные во время прямого прохода, поэтому их стоит сохранить в `ctx`."
      ]
    },
    {
      "cell_type": "code",
      "execution_count": 18,
      "metadata": {
        "id": "U9qrJ47xY6H0"
      },
      "outputs": [],
      "source": [
        "class ReLUFunction(Function):\n",
        "    @staticmethod\n",
        "    def forward(ctx, input):\n",
        "\n",
        "        ### YOUR CODE HERE\n",
        "        ### CALCULATE RELU FUNCTION WITH TORCH AND SAVE SOMETHING FOR BACKWARD VIA CTX\n",
        "\n",
        "        # Применяем функцию ReLU\n",
        "        ctx.save_for_backward(input)\n",
        "        return input.clamp(min=0)\n",
        "\n",
        "    @staticmethod\n",
        "    def backward(ctx, grad_output):\n",
        "\n",
        "        ### YOUR CODE HERE\n",
        "        ### GET SOMETHING FROM FORWARD AND CALCULATE GRADIENT\n",
        "        # CHECK LECTIONS OR GOOGLE\n",
        "\n",
        "        # Вычисляем производную функции ReLU\n",
        "        out, = ctx.saved_tensors\n",
        "        grad_input = grad_output.clone()\n",
        "        grad_input[out <= 0] = 0\n",
        "        return grad_input"
      ]
    },
    {
      "cell_type": "code",
      "execution_count": 19,
      "metadata": {
        "id": "y09ZVCsT86kT"
      },
      "outputs": [],
      "source": [
        "class ReLU(nn.Module):\n",
        "    def __init__(self):\n",
        "\n",
        "        super().__init__()\n",
        "        self.relu = ReLUFunction.apply\n",
        "\n",
        "    def forward(self, input):\n",
        "\n",
        "        return self.relu(input)\n"
      ]
    },
    {
      "cell_type": "markdown",
      "metadata": {
        "id": "2RwKEUp_V3-L"
      },
      "source": [
        "Не забываем после реализации функции проверить градиент, испльзуя функцию `gradcheck`."
      ]
    },
    {
      "cell_type": "code",
      "execution_count": 20,
      "metadata": {
        "id": "K0RnDQZCXXZn"
      },
      "outputs": [],
      "source": [
        "torch.manual_seed(0)\n",
        "\n",
        "x = torch.rand((7,15), requires_grad = True, dtype=torch.double)\n",
        "relu = ReLU()\n",
        "\n",
        "assert gradcheck(relu, x)"
      ]
    },
    {
      "cell_type": "code",
      "execution_count": 21,
      "metadata": {
        "id": "vUmbmR4iXurd"
      },
      "outputs": [],
      "source": [
        "torch_relu = torch.relu\n",
        "our_relu = ReLU()\n",
        "\n",
        "assert torch.norm(torch_relu(x.float()) - our_relu(x)) < 1e-5"
      ]
    },
    {
      "cell_type": "markdown",
      "metadata": {
        "id": "ojTR4GFd86kY"
      },
      "source": [
        "### 2.2 Линейный слой (linear, fully-connected)\n",
        "Далее реализуем полносвязный слой без нелинейности. У слоя два набора параметра: матрица весов (weights) и вектор смещения (bias)."
      ]
    },
    {
      "cell_type": "code",
      "execution_count": 22,
      "metadata": {
        "id": "fBl34oykbcBf"
      },
      "outputs": [],
      "source": [
        "class LinearFunction(Function):\n",
        "    @staticmethod\n",
        "    def forward(ctx, inp, weight, bias):\n",
        "\n",
        "        ### YOUR CODE HERE\n",
        "        ### CALCULATE OUTPUT\n",
        "        ### AND SAVE SOMETHING FOR BACKWARD\n",
        "        ctx.save_for_backward(inp, weight, bias)\n",
        "        output = inp @ weight.T + bias\n",
        "\n",
        "        return output\n",
        "\n",
        "    @staticmethod\n",
        "    def backward(ctx, grad_output):\n",
        "\n",
        "        # GET SOMETHING FROM BACKWARD\n",
        "        inp, weight, bias = ctx.saved_tensors\n",
        "\n",
        "        # CHECK HOW BACKWARD PERFORMED\n",
        "        grad_bias = grad_output.sum(0)\n",
        "        grad_weight = grad_output.T @ inp\n",
        "        grad_input =  grad_output @ weight\n",
        "\n",
        "\n",
        "        return grad_input, grad_weight, grad_bias"
      ]
    },
    {
      "cell_type": "code",
      "execution_count": 23,
      "metadata": {
        "id": "YbN5JOc886kZ"
      },
      "outputs": [],
      "source": [
        "class Linear(nn.Module):\n",
        "    def __init__(self, input_units, output_units):\n",
        "        super().__init__()\n",
        "\n",
        "        ### YOUR CODE HERE\n",
        "        ### initialize weights and bias with small random numbers or xavier\n",
        "        ### do not forget to make them torch.nn.Parameter\n",
        "        self.weight = nn.Parameter(torch.randn(output_units, input_units, requires_grad=True))\n",
        "        nn.init.kaiming_uniform_(self.weight, mode='fan_in', nonlinearity='relu')\n",
        "\n",
        "        self.bias = nn.Parameter(torch.randn(output_units))\n",
        "\n",
        "        self.linear = LinearFunction.apply\n",
        "\n",
        "    def forward(self,inp):\n",
        "\n",
        "        return self.linear(inp, self.weight, self.bias)\n",
        "\n",
        "    # добавила функцию для вывода входных и выходных характеристик\n",
        "    def __repr__(self):\n",
        "        return f\"Linear({self.weight.shape[1]}, {self.weight.shape[0]}, bias={self.bias is not None})\""
      ]
    },
    {
      "cell_type": "markdown",
      "metadata": {
        "id": "gToXI43WYMDv"
      },
      "source": [
        "Проверим градиент, а также сравним с работой нашего модуля с имплементированным в `PyTorch`."
      ]
    },
    {
      "cell_type": "markdown",
      "metadata": {
        "id": "et7mKX5xZfMI"
      },
      "source": [
        "Проверка градиента:"
      ]
    },
    {
      "cell_type": "code",
      "execution_count": 24,
      "metadata": {
        "id": "PxLVozqLZb_H"
      },
      "outputs": [],
      "source": [
        "torch.manual_seed(0)\n",
        "\n",
        "x = torch.rand((6,12), requires_grad = True, dtype=torch.double)\n",
        "linear = Linear(12, 14).double()\n",
        "\n",
        "assert gradcheck(linear, x)"
      ]
    },
    {
      "cell_type": "markdown",
      "metadata": {
        "id": "pW8ppOciZndN"
      },
      "source": [
        "Сравнение с `PyTorch`."
      ]
    },
    {
      "cell_type": "code",
      "execution_count": 25,
      "metadata": {
        "id": "IIR9svs7Zmq0"
      },
      "outputs": [],
      "source": [
        "output_units = 32\n",
        "input_units = 15\n",
        "\n",
        "x = torch.rand((16,15), requires_grad = True, dtype=torch.double)\n",
        "\n",
        "\n",
        "weight = torch.rand(size=(output_units, input_units), dtype=torch.double)\n",
        "bias = torch.rand(size=(output_units,), dtype=torch.double)\n",
        "\n",
        "torch_linear = torch.nn.Linear(input_units, output_units, dtype=torch.double)\n",
        "our_linear = Linear(input_units, output_units).double()\n",
        "\n",
        "\n",
        "state_dict = OrderedDict([(\"weight\", weight), (\"bias\", bias)])\n",
        "torch_linear.load_state_dict(state_dict)\n",
        "our_linear.load_state_dict(state_dict)\n",
        "\n",
        "\n",
        "\n",
        "torch_forward = torch_linear.forward(x)\n",
        "our_forward = our_linear(x)\n",
        "assert torch.allclose(torch_forward, our_forward)"
      ]
    },
    {
      "cell_type": "markdown",
      "metadata": {
        "id": "kmzKDpyE86lg"
      },
      "source": [
        "## 3. Сборка и обучение нейронной сети (5 баллов)"
      ]
    },
    {
      "cell_type": "markdown",
      "metadata": {
        "id": "mPqlZfj_86lg"
      },
      "source": [
        "Реализуйте произвольную нейросеть, состоящую из ваших блоков. Она должна состоять из нескольких полносвязанных слоев. _(Я заменила hidden_layers_size на initial_hidden_size, чтобы количество скрытых слоев варьировалось)_"
      ]
    },
    {
      "cell_type": "code",
      "execution_count": 26,
      "metadata": {
        "id": "tkESXVD87sM8"
      },
      "outputs": [],
      "source": [
        "class Network(nn.Module):\n",
        "    def __init__(self, input_size=28*28, initial_hidden_size=256, num_layers=5,\n",
        "                 num_classes=10):\n",
        "        super().__init__()\n",
        "\n",
        "\n",
        "        ### YOUR CODE HERE\n",
        "        ### STACK LAYERS WITH DEFINED PARAMETERS\n",
        "        ### USE nn.Dropout, your linear, your relu and whatever you like\n",
        "        ### LAST LAYER SHOULD BE nn.LogSoftmax\n",
        "        layers = []\n",
        "\n",
        "        # Проверка, нужны ли скрытые слои\n",
        "        if num_layers > 1:\n",
        "            hidden_layers_size = initial_hidden_size\n",
        "\n",
        "            # Входной слой\n",
        "            layers.append(Linear(input_size, hidden_layers_size))\n",
        "            layers.append(ReLU())\n",
        "            layers.append(nn.Dropout(p=0.25))\n",
        "\n",
        "            # Скрытые слои\n",
        "            for i in range(num_layers - 2):\n",
        "                next_hidden_size = hidden_layers_size // 2  # Уменьшаем размер вдвое\n",
        "                layers.append(Linear(hidden_layers_size, next_hidden_size))\n",
        "                layers.append(ReLU())\n",
        "                layers.append(nn.Dropout(p=0.25))\n",
        "\n",
        "                hidden_layers_size = next_hidden_size\n",
        "\n",
        "            # Перед последним слоем\n",
        "            last_layer_input = hidden_layers_size\n",
        "        else:\n",
        "            # Если скрытые слои не используются\n",
        "            last_layer_input = input_size\n",
        "\n",
        "        # Выходной слой\n",
        "        layers.append(Linear(last_layer_input, num_classes))\n",
        "        layers.append(nn.LogSoftmax(dim=1))\n",
        "\n",
        "        self.net = nn.Sequential(*layers)\n",
        "\n",
        "    def forward(self, inp):\n",
        "\n",
        "        ### YOUR CODE HERE\n",
        "        ### APPLY YOUR NET TO THE INPUT\n",
        "        return self.net(inp)"
      ]
    },
    {
      "cell_type": "code",
      "source": [
        "model = Network(num_layers=4)"
      ],
      "metadata": {
        "id": "hb7CNJa-MQ4d"
      },
      "execution_count": 27,
      "outputs": []
    },
    {
      "cell_type": "code",
      "source": [
        "print(model)"
      ],
      "metadata": {
        "colab": {
          "base_uri": "https://localhost:8080/"
        },
        "id": "-lUTKP5wMg22",
        "outputId": "611fabee-b987-4d47-cda3-e4013013c7af"
      },
      "execution_count": 28,
      "outputs": [
        {
          "output_type": "stream",
          "name": "stdout",
          "text": [
            "Network(\n",
            "  (net): Sequential(\n",
            "    (0): Linear(784, 256, bias=True)\n",
            "    (1): ReLU()\n",
            "    (2): Dropout(p=0.25, inplace=False)\n",
            "    (3): Linear(256, 128, bias=True)\n",
            "    (4): ReLU()\n",
            "    (5): Dropout(p=0.25, inplace=False)\n",
            "    (6): Linear(128, 64, bias=True)\n",
            "    (7): ReLU()\n",
            "    (8): Dropout(p=0.25, inplace=False)\n",
            "    (9): Linear(64, 10, bias=True)\n",
            "    (10): LogSoftmax(dim=1)\n",
            "  )\n",
            ")\n"
          ]
        }
      ]
    },
    {
      "cell_type": "markdown",
      "metadata": {
        "id": "Vj-eEvMFfbSo"
      },
      "source": [
        "Ниже вам предстоит написать цикл обучения. Сначала это бывает больно, но потом уже на автомате делается, в начале так всегда\n"
      ]
    },
    {
      "cell_type": "code",
      "execution_count": 29,
      "metadata": {
        "id": "vDhcoCB4OpXE"
      },
      "outputs": [],
      "source": [
        "class EmptyContext:\n",
        "    def __enter__(self):\n",
        "        pass\n",
        "\n",
        "    def __exit__(self, *args):\n",
        "        pass"
      ]
    },
    {
      "cell_type": "code",
      "execution_count": 30,
      "metadata": {
        "id": "8AsWblqIOquI"
      },
      "outputs": [],
      "source": [
        "# accuract metric for our classififcation\n",
        "def accuracy(model_labels, labels):\n",
        "  return torch.mean((model_labels == labels).float())"
      ]
    },
    {
      "cell_type": "code",
      "execution_count": 31,
      "metadata": {
        "id": "Oy33FHuv_Us-"
      },
      "outputs": [],
      "source": [
        "def perform_epoch(model, loader, criterion,\n",
        "                optimizer=None, device=None):\n",
        "    is_train = optimizer is not None\n",
        "    ### YOUR CODE HERE\n",
        "    ### MOVE MODEL TO DEVICE\n",
        "    ### CHANGE MODEL TO TRAIN OR EVAL MODE\n",
        "    model.to(device)\n",
        "    model.train() if is_train else model.eval()\n",
        "    context = torch.enable_grad() if is_train else torch.no_grad()\n",
        "\n",
        "    ### SET LOGGING VALUES\n",
        "    ### ITERATE OVER DATALOADER\n",
        "    ### MOVE BATCH AND LABELS TO DEVICE\n",
        "    ### GET MODEL OUTPUT\n",
        "    ### GET MODEL PREDICTIONS (from the probabilites)\n",
        "    ### CALCULATE LOSS\n",
        "    ### BACKWARD IF TRAIN\n",
        "    ### STEP WITH OPTIMIZER (DONT FORGET TO ZERO GRAD)\n",
        "    ### UPDATE LOGGING VALUES WITH LOSS AND ACCURACY\n",
        "    ### RETURN LOGGED VALUES\n",
        "    total_loss = 0\n",
        "    total_accuracy = 0\n",
        "\n",
        "    for inputs, labels in loader:\n",
        "        inputs, labels = inputs.to(device), labels.to(device)\n",
        "        inputs = inputs.view(inputs.shape[0], -1)\n",
        "        with context:\n",
        "            # Прямой проход\n",
        "            outputs = model(inputs)\n",
        "            predictions = torch.argmax(outputs, dim=1)\n",
        "            loss = criterion(outputs, labels)\n",
        "\n",
        "            if is_train:\n",
        "                # Обратный проход и шаг оптимизации\n",
        "                optimizer.zero_grad()\n",
        "                loss.backward()\n",
        "                optimizer.step()\n",
        "\n",
        "        total_loss += loss.item()\n",
        "        total_accuracy += accuracy(predictions, labels).item()\n",
        "\n",
        "    return total_loss / len(loader), total_accuracy / len(loader)"
      ]
    },
    {
      "cell_type": "markdown",
      "metadata": {
        "id": "FtamPEJZgOY5"
      },
      "source": [
        "Теперь обучим нашу нейронную сеть. _(Я обернула обучение в функцию, чтобы в дальнейшем сравнивать соответствующие оптимизаторы)_"
      ]
    },
    {
      "cell_type": "code",
      "execution_count": 32,
      "metadata": {
        "id": "mEcyUJJI_aAn"
      },
      "outputs": [],
      "source": [
        "def trainer(model, optimizer, num_epochs=10):\n",
        "    # INIT YOUR MODEL\n",
        "    # CRITERION\n",
        "    #  AND OPTIMIZER\n",
        "    # Add device\n",
        "    criterion = nn.NLLLoss()\n",
        "    device = torch.device(\"cuda\" if torch.cuda.is_available() else \"cpu\")\n",
        "    model.to(device)\n",
        "\n",
        "    # SET NUMBER OF EPOCHS\n",
        "    # ITERATE OVER NUMBERS OF EPOCH\n",
        "    # TRAIN AND VALIDATE\n",
        "    # LOG METRICS FOR TRAIN AND VAL LIKE BELOW. (YOU MAY USE YOUR OWN WAY)\n",
        "    train_losses, val_losses = [], []\n",
        "    train_accs, val_accs = [], []\n",
        "\n",
        "    for epoch in range(num_epochs):\n",
        "        train_loss, train_accuracy = perform_epoch(model, train_dataloader, criterion, optimizer, device)\n",
        "        val_loss, val_accuracy = perform_epoch(model, test_dataloader, criterion, None, device)\n",
        "\n",
        "        train_losses.append(train_loss)\n",
        "        val_losses.append(val_loss)\n",
        "        train_accs.append(train_accuracy)\n",
        "        val_accs.append(val_accuracy)\n",
        "\n",
        "        print(f\"Epoch {epoch + 1} : Train loss {train_loss:.4f}, Train accuracy {train_accuracy:.4f}\")\n",
        "        print(f\"           : Val loss {val_loss:.4f}, Val accuracy {val_accuracy:.4f}\")\n",
        "    return train_losses, val_losses, train_accs, val_accs"
      ]
    },
    {
      "cell_type": "markdown",
      "source": [
        "Я поэскпериментировала и наилучшие результаты с моими слоями получились, если начинать с __392 скрытых слоев__ на первом слое и затем __в 2 раза уменьшать__ последующие до _5 слоя_, в котором мы получаем метки классов, а потом с помощью LogSoftmax их вероятности. Плюс скорость обучения в оптимизаторе сделала равной 0.0007"
      ],
      "metadata": {
        "id": "mq79F2bW_7oU"
      }
    },
    {
      "cell_type": "code",
      "source": [
        "# Инициализация модели\n",
        "model = Network(input_size=28*28, initial_hidden_size=392, num_layers=5, num_classes=10)\n",
        "print(model)\n",
        "\n",
        "# Выбор и инициализация оптимизатора\n",
        "adam_optimizer = torch.optim.Adam(model.parameters(), lr=0.0007)\n",
        "\n",
        "# Запуск обучения с выбранным оптимизатором\n",
        "train_losses, val_losses, train_accs, val_accs = trainer(model, adam_optimizer, num_epochs=30)"
      ],
      "metadata": {
        "colab": {
          "base_uri": "https://localhost:8080/"
        },
        "id": "5h4oAheTCYP1",
        "outputId": "2f9dfe51-f75a-4d0b-98b0-0f3be95db5c6"
      },
      "execution_count": 33,
      "outputs": [
        {
          "output_type": "stream",
          "name": "stdout",
          "text": [
            "Network(\n",
            "  (net): Sequential(\n",
            "    (0): Linear(784, 392, bias=True)\n",
            "    (1): ReLU()\n",
            "    (2): Dropout(p=0.25, inplace=False)\n",
            "    (3): Linear(392, 196, bias=True)\n",
            "    (4): ReLU()\n",
            "    (5): Dropout(p=0.25, inplace=False)\n",
            "    (6): Linear(196, 98, bias=True)\n",
            "    (7): ReLU()\n",
            "    (8): Dropout(p=0.25, inplace=False)\n",
            "    (9): Linear(98, 49, bias=True)\n",
            "    (10): ReLU()\n",
            "    (11): Dropout(p=0.25, inplace=False)\n",
            "    (12): Linear(49, 10, bias=True)\n",
            "    (13): LogSoftmax(dim=1)\n",
            "  )\n",
            ")\n",
            "Epoch 1 : Train loss 4.2458, Train accuracy 0.4445\n",
            "           : Val loss 0.8763, Val accuracy 0.6585\n",
            "Epoch 2 : Train loss 1.0110, Train accuracy 0.6191\n",
            "           : Val loss 0.6846, Val accuracy 0.7224\n",
            "Epoch 3 : Train loss 0.8453, Train accuracy 0.6857\n",
            "           : Val loss 0.6215, Val accuracy 0.7725\n",
            "Epoch 4 : Train loss 0.7692, Train accuracy 0.7227\n",
            "           : Val loss 0.6482, Val accuracy 0.7719\n",
            "Epoch 5 : Train loss 0.7222, Train accuracy 0.7452\n",
            "           : Val loss 0.5783, Val accuracy 0.8001\n",
            "Epoch 6 : Train loss 0.6969, Train accuracy 0.7560\n",
            "           : Val loss 0.5765, Val accuracy 0.7998\n",
            "Epoch 7 : Train loss 0.6717, Train accuracy 0.7619\n",
            "           : Val loss 0.5541, Val accuracy 0.8019\n",
            "Epoch 8 : Train loss 0.6515, Train accuracy 0.7687\n",
            "           : Val loss 0.5347, Val accuracy 0.8025\n",
            "Epoch 9 : Train loss 0.6431, Train accuracy 0.7722\n",
            "           : Val loss 0.5755, Val accuracy 0.7987\n",
            "Epoch 10 : Train loss 0.6396, Train accuracy 0.7720\n",
            "           : Val loss 0.5248, Val accuracy 0.8090\n",
            "Epoch 11 : Train loss 0.6299, Train accuracy 0.7775\n",
            "           : Val loss 0.5280, Val accuracy 0.8120\n",
            "Epoch 12 : Train loss 0.6156, Train accuracy 0.7795\n",
            "           : Val loss 0.5651, Val accuracy 0.7976\n",
            "Epoch 13 : Train loss 0.6231, Train accuracy 0.7768\n",
            "           : Val loss 0.5829, Val accuracy 0.7410\n",
            "Epoch 14 : Train loss 0.6391, Train accuracy 0.7500\n",
            "           : Val loss 0.5616, Val accuracy 0.8021\n",
            "Epoch 15 : Train loss 0.6026, Train accuracy 0.7840\n",
            "           : Val loss 0.5492, Val accuracy 0.8103\n",
            "Epoch 16 : Train loss 0.6123, Train accuracy 0.7832\n",
            "           : Val loss 0.5394, Val accuracy 0.8077\n",
            "Epoch 17 : Train loss 0.6161, Train accuracy 0.7790\n",
            "           : Val loss 0.5826, Val accuracy 0.7911\n",
            "Epoch 18 : Train loss 0.5964, Train accuracy 0.7888\n",
            "           : Val loss 0.5384, Val accuracy 0.8027\n",
            "Epoch 19 : Train loss 0.5932, Train accuracy 0.7907\n",
            "           : Val loss 0.5228, Val accuracy 0.8220\n",
            "Epoch 20 : Train loss 0.5896, Train accuracy 0.7868\n",
            "           : Val loss 0.5119, Val accuracy 0.8219\n",
            "Epoch 21 : Train loss 0.5905, Train accuracy 0.7874\n",
            "           : Val loss 0.5046, Val accuracy 0.8173\n",
            "Epoch 22 : Train loss 0.5976, Train accuracy 0.7868\n",
            "           : Val loss 0.5254, Val accuracy 0.8180\n",
            "Epoch 23 : Train loss 0.5808, Train accuracy 0.7926\n",
            "           : Val loss 0.5186, Val accuracy 0.8245\n",
            "Epoch 24 : Train loss 0.5930, Train accuracy 0.7887\n",
            "           : Val loss 0.5192, Val accuracy 0.8196\n",
            "Epoch 25 : Train loss 0.5727, Train accuracy 0.7952\n",
            "           : Val loss 0.5101, Val accuracy 0.8248\n",
            "Epoch 26 : Train loss 0.5724, Train accuracy 0.7947\n",
            "           : Val loss 0.5329, Val accuracy 0.8178\n",
            "Epoch 27 : Train loss 0.5746, Train accuracy 0.7949\n",
            "           : Val loss 0.5086, Val accuracy 0.8160\n",
            "Epoch 28 : Train loss 0.5667, Train accuracy 0.7991\n",
            "           : Val loss 0.5447, Val accuracy 0.8180\n",
            "Epoch 29 : Train loss 0.6000, Train accuracy 0.7867\n",
            "           : Val loss 0.5134, Val accuracy 0.8160\n",
            "Epoch 30 : Train loss 0.5627, Train accuracy 0.7977\n",
            "           : Val loss 0.5516, Val accuracy 0.8180\n"
          ]
        }
      ]
    },
    {
      "cell_type": "code",
      "source": [
        "plt.plot(train_losses, label = \"Training loss\")\n",
        "plt.plot(val_losses, label = \"Validation loss\")\n",
        "plt.legend(frameon = False)"
      ],
      "metadata": {
        "colab": {
          "base_uri": "https://localhost:8080/",
          "height": 448
        },
        "id": "rHcxi2-992en",
        "outputId": "3b1e8859-d123-49a2-90be-a925209639e6"
      },
      "execution_count": 34,
      "outputs": [
        {
          "output_type": "execute_result",
          "data": {
            "text/plain": [
              "<matplotlib.legend.Legend at 0x7ea56fb25f90>"
            ]
          },
          "metadata": {},
          "execution_count": 34
        },
        {
          "output_type": "display_data",
          "data": {
            "text/plain": [
              "<Figure size 640x480 with 1 Axes>"
            ],
            "image/png": "[encoded data removed]"
          },
          "metadata": {}
        }
      ]
    },
    {
      "cell_type": "code",
      "source": [
        "plt.plot(train_accs, label = \"Training accuracy\")\n",
        "plt.plot(val_accs, label = \"Validation accuracy\")\n",
        "plt.legend(frameon = False)"
      ],
      "metadata": {
        "colab": {
          "base_uri": "https://localhost:8080/",
          "height": 448
        },
        "id": "r52rP0t995b6",
        "outputId": "b249dda3-934b-47d0-abb5-73f5043e9af2"
      },
      "execution_count": 35,
      "outputs": [
        {
          "output_type": "execute_result",
          "data": {
            "text/plain": [
              "<matplotlib.legend.Legend at 0x7ea56f636ad0>"
            ]
          },
          "metadata": {},
          "execution_count": 35
        },
        {
          "output_type": "display_data",
          "data": {
            "text/plain": [
              "<Figure size 640x480 with 1 Axes>"
            ],
            "image/png": "[encoded data removed]"
          },
          "metadata": {}
        }
      ]
    },
    {
      "cell_type": "markdown",
      "metadata": {
        "id": "WS41CQj0Y6Q8"
      },
      "source": [
        "Дальше:\n",
        "- Проведите эксперименты с числом слоев.\n",
        "- Постройте графики зависимости качества модели на тренировочной и тестовой выборках от числа слоев. Для получения статистически значимых результатов повторите эксперименты несколько раз.\n",
        "- Сделайте выводы."
      ]
    },
    {
      "cell_type": "code",
      "source": [
        "num_layers_options = range(1, 6)  # Диапазон числа слоев\n",
        "num_experiments = 3  # Число экспериментов для каждой конфигурации\n",
        "num_epochs = 5      # Установите необходимое количество эпох\n",
        "\n",
        "train_accuracies = {num_layers: [] for num_layers in num_layers_options}\n",
        "val_accuracies = {num_layers: [] for num_layers in num_layers_options}\n",
        "\n",
        "criterion = nn.NLLLoss()\n",
        "device = torch.device(\"cuda\" if torch.cuda.is_available() else \"cpu\")\n",
        "\n",
        "for num_layers in num_layers_options:\n",
        "    for experiment in range(num_experiments):\n",
        "        model = Network(input_size=28*28, initial_hidden_size=392, num_layers=num_layers, num_classes=10)\n",
        "        model.to(device)\n",
        "        optimizer = torch.optim.Adam(model.parameters(), lr=0.001)\n",
        "\n",
        "        epoch_train_acc = []\n",
        "        epoch_val_acc = []\n",
        "\n",
        "        print(f\"Experiment {experiment + 1} with {num_layers} layers:\")\n",
        "        for epoch in range(num_epochs):\n",
        "            train_loss, train_accuracy = perform_epoch(model, train_dataloader, criterion, optimizer, device)\n",
        "            val_loss, val_accuracy = perform_epoch(model, test_dataloader, criterion, None, device)\n",
        "\n",
        "            epoch_train_acc.append(train_accuracy)\n",
        "            epoch_val_acc.append(val_accuracy)\n",
        "\n",
        "            # Выводим результаты после каждой эпохи\n",
        "            print(f\"Epoch {epoch + 1}: Train Acc = {train_accuracy:.4f}, Val Acc = {val_accuracy:.4f}\")\n",
        "\n",
        "        train_accuracies[num_layers].append(epoch_train_acc)\n",
        "        val_accuracies[num_layers].append(epoch_val_acc)\n",
        "\n",
        "        print(\"\\n\")"
      ],
      "metadata": {
        "colab": {
          "base_uri": "https://localhost:8080/"
        },
        "id": "pRnmt5ajYtK-",
        "outputId": "4cfcff7f-2781-4d57-e338-2803cacca564"
      },
      "execution_count": 36,
      "outputs": [
        {
          "output_type": "stream",
          "name": "stdout",
          "text": [
            "Experiment 1 with 1 layers:\n",
            "Epoch 1: Train Acc = 0.7518, Val Acc = 0.7838\n",
            "Epoch 2: Train Acc = 0.7890, Val Acc = 0.7996\n",
            "Epoch 3: Train Acc = 0.7959, Val Acc = 0.7976\n",
            "Epoch 4: Train Acc = 0.8003, Val Acc = 0.7455\n",
            "Epoch 5: Train Acc = 0.8007, Val Acc = 0.7829\n",
            "\n",
            "\n",
            "Experiment 2 with 1 layers:\n",
            "Epoch 1: Train Acc = 0.7497, Val Acc = 0.7443\n",
            "Epoch 2: Train Acc = 0.7875, Val Acc = 0.8154\n",
            "Epoch 3: Train Acc = 0.7950, Val Acc = 0.7695\n",
            "Epoch 4: Train Acc = 0.7988, Val Acc = 0.8095\n",
            "Epoch 5: Train Acc = 0.8022, Val Acc = 0.7728\n",
            "\n",
            "\n",
            "Experiment 3 with 1 layers:\n",
            "Epoch 1: Train Acc = 0.7553, Val Acc = 0.7891\n",
            "Epoch 2: Train Acc = 0.7886, Val Acc = 0.7650\n",
            "Epoch 3: Train Acc = 0.7976, Val Acc = 0.7720\n",
            "Epoch 4: Train Acc = 0.7985, Val Acc = 0.7917\n",
            "Epoch 5: Train Acc = 0.8026, Val Acc = 0.7267\n",
            "\n",
            "\n",
            "Experiment 1 with 2 layers:\n",
            "Epoch 1: Train Acc = 0.6156, Val Acc = 0.6764\n",
            "Epoch 2: Train Acc = 0.6337, Val Acc = 0.7228\n",
            "Epoch 3: Train Acc = 0.6568, Val Acc = 0.7408\n",
            "Epoch 4: Train Acc = 0.6679, Val Acc = 0.7196\n",
            "Epoch 5: Train Acc = 0.6720, Val Acc = 0.7076\n",
            "\n",
            "\n",
            "Experiment 2 with 2 layers:\n",
            "Epoch 1: Train Acc = 0.6152, Val Acc = 0.7274\n",
            "Epoch 2: Train Acc = 0.6585, Val Acc = 0.7459\n",
            "Epoch 3: Train Acc = 0.6669, Val Acc = 0.7674\n",
            "Epoch 4: Train Acc = 0.6423, Val Acc = 0.7408\n",
            "Epoch 5: Train Acc = 0.6601, Val Acc = 0.7586\n",
            "\n",
            "\n",
            "Experiment 3 with 2 layers:\n",
            "Epoch 1: Train Acc = 0.6263, Val Acc = 0.7235\n",
            "Epoch 2: Train Acc = 0.6489, Val Acc = 0.7275\n",
            "Epoch 3: Train Acc = 0.6833, Val Acc = 0.7235\n",
            "Epoch 4: Train Acc = 0.6790, Val Acc = 0.7340\n",
            "Epoch 5: Train Acc = 0.6875, Val Acc = 0.6709\n",
            "\n",
            "\n",
            "Experiment 1 with 3 layers:\n",
            "Epoch 1: Train Acc = 0.6139, Val Acc = 0.7090\n",
            "Epoch 2: Train Acc = 0.6823, Val Acc = 0.7288\n",
            "Epoch 3: Train Acc = 0.6971, Val Acc = 0.7629\n",
            "Epoch 4: Train Acc = 0.7135, Val Acc = 0.7892\n",
            "Epoch 5: Train Acc = 0.7312, Val Acc = 0.7998\n",
            "\n",
            "\n",
            "Experiment 2 with 3 layers:\n",
            "Epoch 1: Train Acc = 0.5475, Val Acc = 0.5793\n",
            "Epoch 2: Train Acc = 0.5715, Val Acc = 0.6217\n",
            "Epoch 3: Train Acc = 0.6023, Val Acc = 0.6323\n",
            "Epoch 4: Train Acc = 0.6533, Val Acc = 0.7048\n",
            "Epoch 5: Train Acc = 0.6710, Val Acc = 0.7247\n",
            "\n",
            "\n",
            "Experiment 3 with 3 layers:\n",
            "Epoch 1: Train Acc = 0.5271, Val Acc = 0.5083\n",
            "Epoch 2: Train Acc = 0.5574, Val Acc = 0.6831\n",
            "Epoch 3: Train Acc = 0.6278, Val Acc = 0.6807\n",
            "Epoch 4: Train Acc = 0.6447, Val Acc = 0.7255\n",
            "Epoch 5: Train Acc = 0.6563, Val Acc = 0.7076\n",
            "\n",
            "\n",
            "Experiment 1 with 4 layers:\n",
            "Epoch 1: Train Acc = 0.5755, Val Acc = 0.7067\n",
            "Epoch 2: Train Acc = 0.6420, Val Acc = 0.7139\n",
            "Epoch 3: Train Acc = 0.6608, Val Acc = 0.7241\n",
            "Epoch 4: Train Acc = 0.6769, Val Acc = 0.7296\n",
            "Epoch 5: Train Acc = 0.6937, Val Acc = 0.7261\n",
            "\n",
            "\n",
            "Experiment 2 with 4 layers:\n",
            "Epoch 1: Train Acc = 0.5437, Val Acc = 0.6620\n",
            "Epoch 2: Train Acc = 0.6386, Val Acc = 0.7217\n",
            "Epoch 3: Train Acc = 0.6717, Val Acc = 0.7341\n",
            "Epoch 4: Train Acc = 0.7045, Val Acc = 0.7682\n",
            "Epoch 5: Train Acc = 0.7277, Val Acc = 0.7517\n",
            "\n",
            "\n",
            "Experiment 3 with 4 layers:\n",
            "Epoch 1: Train Acc = 0.5820, Val Acc = 0.7066\n",
            "Epoch 2: Train Acc = 0.6487, Val Acc = 0.6956\n",
            "Epoch 3: Train Acc = 0.6591, Val Acc = 0.7176\n",
            "Epoch 4: Train Acc = 0.6852, Val Acc = 0.5921\n",
            "Epoch 5: Train Acc = 0.6960, Val Acc = 0.7337\n",
            "\n",
            "\n",
            "Experiment 1 with 5 layers:\n",
            "Epoch 1: Train Acc = 0.4229, Val Acc = 0.5934\n",
            "Epoch 2: Train Acc = 0.5591, Val Acc = 0.6943\n",
            "Epoch 3: Train Acc = 0.6382, Val Acc = 0.7229\n",
            "Epoch 4: Train Acc = 0.6624, Val Acc = 0.7160\n",
            "Epoch 5: Train Acc = 0.6803, Val Acc = 0.7357\n",
            "\n",
            "\n",
            "Experiment 2 with 5 layers:\n",
            "Epoch 1: Train Acc = 0.4298, Val Acc = 0.6224\n",
            "Epoch 2: Train Acc = 0.5627, Val Acc = 0.6338\n",
            "Epoch 3: Train Acc = 0.6247, Val Acc = 0.7163\n",
            "Epoch 4: Train Acc = 0.6618, Val Acc = 0.7160\n",
            "Epoch 5: Train Acc = 0.6743, Val Acc = 0.7077\n",
            "\n",
            "\n",
            "Experiment 3 with 5 layers:\n",
            "Epoch 1: Train Acc = 0.3866, Val Acc = 0.5833\n",
            "Epoch 2: Train Acc = 0.5344, Val Acc = 0.6375\n",
            "Epoch 3: Train Acc = 0.5884, Val Acc = 0.6384\n",
            "Epoch 4: Train Acc = 0.6075, Val Acc = 0.6385\n",
            "Epoch 5: Train Acc = 0.6149, Val Acc = 0.6544\n",
            "\n",
            "\n"
          ]
        }
      ]
    },
    {
      "cell_type": "code",
      "source": [
        "# Визуализация результатов\n",
        "plt.figure(figsize=(12, 6))\n",
        "\n",
        "# Списки для средней тренировочной и валидационной точности по слоям\n",
        "avg_train_accuracies = []\n",
        "avg_val_accuracies = []\n",
        "\n",
        "# Рассчитываем среднюю точность для каждого числа слоев\n",
        "for num_layers in num_layers_options:\n",
        "    layer_train_acc = [sum(acc) / num_experiments for acc in zip(*train_accuracies[num_layers])]\n",
        "    layer_val_acc = [sum(acc) / num_experiments for acc in zip(*val_accuracies[num_layers])]\n",
        "\n",
        "    avg_train_accuracies.append(sum(layer_train_acc) / num_epochs)\n",
        "    avg_val_accuracies.append(sum(layer_val_acc) / num_epochs)\n",
        "\n",
        "# Строим графики\n",
        "plt.plot(num_layers_options, avg_train_accuracies, label='Train Accuracy')\n",
        "plt.plot(num_layers_options, avg_val_accuracies, label='Validation Accuracy', linestyle='--')\n",
        "\n",
        "plt.xlabel('Number of Layers')\n",
        "plt.ylabel('Average Accuracy')\n",
        "plt.xticks(list(num_layers_options))  # Установим деления на оси X равными числу слоев\n",
        "plt.legend()\n",
        "plt.title('Average Accuracy vs Number of Layers')\n",
        "plt.show()"
      ],
      "metadata": {
        "colab": {
          "base_uri": "https://localhost:8080/",
          "height": 564
        },
        "id": "-5XGfpCP_Imx",
        "outputId": "cad4bad9-18ae-4149-bf39-17e621bf4a36"
      },
      "execution_count": 37,
      "outputs": [
        {
          "output_type": "display_data",
          "data": {
            "text/plain": [
              "<Figure size 1200x600 with 1 Axes>"
            ],
            "image/png": "[encoded data removed]"
          },
          "metadata": {}
        }
      ]
    },
    {
      "cell_type": "markdown",
      "source": [
        "__Вывод:__ как видно из результатов, простая модель с одним слоем показывает хорошую обобщающую способность, а с увеличением слоев наблюдаются колебания в точности. Однако модели с большим количеством слоев могут показывать лучшую производительность при оптимизации и настройке гиперпараметров (как в случае с моей моделью выше, которая показала точность выше, чем однослойная модель (0.8180 __vs.__ 0.7829))."
      ],
      "metadata": {
        "id": "cQrjnWTsMHz4"
      }
    },
    {
      "cell_type": "markdown",
      "metadata": {
        "id": "d3vcONKQ86mu"
      },
      "source": [
        "## 4. Бонусная часть."
      ]
    },
    {
      "cell_type": "markdown",
      "metadata": {
        "id": "Kuhxy7aW86mu"
      },
      "source": [
        "### 4.1 Реализация метода оптимизации (1 балл).\n",
        "Реализуйте сами метод оптимизации  для рассмотренной выше архитектуры. Вы можете выбрать произвольный метод от градиентного спуска до современных вариантов. Продемонстрируйте правильную работу метода оптимизации, сравните его работы с Adam.\n",
        "\n",
        "**Дополнительные баллы** вы получите, если метод будет уникален среди сдавших задание."
      ]
    },
    {
      "cell_type": "code",
      "execution_count": 38,
      "metadata": {
        "id": "GYMu0uF1p6o0"
      },
      "outputs": [],
      "source": [
        "class SotaOptimizer(Optimizer):\n",
        "    def __init__(self, params, lr=1e-3):\n",
        "        defaults = dict(lr=lr)\n",
        "        super(SotaOptimizer, self).__init__(params, defaults)\n",
        "\n",
        "    def __setstate__(self, state):\n",
        "        super(SotaOptimizer, self).__setstate__(state)\n",
        "\n",
        "    @torch.no_grad()\n",
        "    def step(self,):\n",
        "\n",
        "        for group in self.param_groups:\n",
        "            lr = group['lr']\n",
        "            for p in group['params']:\n",
        "                if p.grad is not None:\n",
        "                    p.data.add_(-lr*p.grad)"
      ]
    },
    {
      "cell_type": "markdown",
      "source": [
        "В следующем коде я попробовала реализовать Nesterov Accelerated Gradient (NAG), который является вариацией метода моментума, где корректировка весов учитывает не только текущий градиент, но и направление, в котором градиент будет изменяться."
      ],
      "metadata": {
        "id": "ytP4MbGe3bmR"
      }
    },
    {
      "cell_type": "code",
      "source": [
        "class NesterovMomentumOptimizer(torch.optim.Optimizer):\n",
        "    def __init__(self, params, lr=1e-3, momentum=0.9):\n",
        "        defaults = dict(lr=lr, momentum=momentum)\n",
        "        super(NesterovMomentumOptimizer, self).__init__(params, defaults)\n",
        "\n",
        "    @torch.no_grad()\n",
        "    def step(self, closure=None):\n",
        "        for group in self.param_groups:\n",
        "            lr = group['lr']\n",
        "            momentum = group['momentum']\n",
        "\n",
        "            for p in group['params']:\n",
        "                if p.grad is not None:\n",
        "                    param_state = self.state[p]\n",
        "\n",
        "                    # Получаем скорость или инициализируем ее нулем\n",
        "                    if 'velocity' not in param_state:\n",
        "                        param_state['velocity'] = torch.clone(p.grad).detach()\n",
        "\n",
        "                    # Рассчитываем скорость\n",
        "                    velocity = param_state['velocity']\n",
        "                    temp = torch.clone(velocity).detach()\n",
        "                    velocity.mul_(momentum).add_(p.grad, alpha=1)\n",
        "\n",
        "                    # Шаг вперед с использованием текущего момента, а затем обновляем с учетом нового градиента\n",
        "                    p.add_(temp, alpha=momentum * -lr)\n",
        "                    p.add_(p.grad, alpha=-lr)"
      ],
      "metadata": {
        "id": "VT3pfsZY3Cl1"
      },
      "execution_count": 39,
      "outputs": []
    },
    {
      "cell_type": "code",
      "source": [
        "# Инициализация модели\n",
        "model = Network(input_size=28*28, initial_hidden_size=256, num_layers=4, num_classes=10)\n",
        "\n",
        "# Обучение с Adam\n",
        "print(\"Training with Adam Optimizer\")\n",
        "adam_optimizer = torch.optim.Adam(model.parameters(), lr=0.001)\n",
        "adam_train_losses, adam_val_losses, adam_train_accs, adam_val_accs = trainer(model, adam_optimizer, num_epochs=10)\n",
        "\n",
        "# Обучение с Nesterov Momentum Optimizer\n",
        "print(\"\\nTraining with Nesterov Momentum Optimizer\")\n",
        "nesterov_optimizer = NesterovMomentumOptimizer(model.parameters(), lr=0.001, momentum=0.9)\n",
        "nesterov_train_losses, nesterov_val_losses, nesterov_train_accs, nesterov_val_accs = trainer(model, nesterov_optimizer, num_epochs=10)"
      ],
      "metadata": {
        "colab": {
          "base_uri": "https://localhost:8080/"
        },
        "id": "OmY_sovuClwV",
        "outputId": "c488cadb-434f-4a9d-c37a-55261bf15e25"
      },
      "execution_count": 40,
      "outputs": [
        {
          "output_type": "stream",
          "name": "stdout",
          "text": [
            "Training with Adam Optimizer\n",
            "Epoch 1 : Train loss 3.7656, Train accuracy 0.4497\n",
            "           : Val loss 0.9465, Val accuracy 0.6135\n",
            "Epoch 2 : Train loss 1.1593, Train accuracy 0.5445\n",
            "           : Val loss 0.9249, Val accuracy 0.6240\n",
            "Epoch 3 : Train loss 1.0095, Train accuracy 0.6047\n",
            "           : Val loss 0.7455, Val accuracy 0.7073\n",
            "Epoch 4 : Train loss 0.8955, Train accuracy 0.6575\n",
            "           : Val loss 0.6889, Val accuracy 0.7241\n",
            "Epoch 5 : Train loss 0.8140, Train accuracy 0.6824\n",
            "           : Val loss 0.6944, Val accuracy 0.7254\n",
            "Epoch 6 : Train loss 0.7945, Train accuracy 0.6896\n",
            "           : Val loss 0.6546, Val accuracy 0.7333\n",
            "Epoch 7 : Train loss 0.8112, Train accuracy 0.6870\n",
            "           : Val loss 0.6645, Val accuracy 0.7336\n",
            "Epoch 8 : Train loss 0.7778, Train accuracy 0.6935\n",
            "           : Val loss 0.6432, Val accuracy 0.7371\n",
            "Epoch 9 : Train loss 0.7821, Train accuracy 0.6948\n",
            "           : Val loss 0.6535, Val accuracy 0.7385\n",
            "Epoch 10 : Train loss 0.7820, Train accuracy 0.6972\n",
            "           : Val loss 0.6321, Val accuracy 0.7402\n",
            "\n",
            "Training with Nesterov Momentum Optimizer\n",
            "Epoch 1 : Train loss 1.8033, Train accuracy 0.3982\n",
            "           : Val loss 1.5721, Val accuracy 0.3769\n",
            "Epoch 2 : Train loss 2.0192, Train accuracy 0.2666\n",
            "           : Val loss 1.7556, Val accuracy 0.3284\n",
            "Epoch 3 : Train loss 1.9742, Train accuracy 0.2682\n",
            "           : Val loss 1.7157, Val accuracy 0.3253\n",
            "Epoch 4 : Train loss 1.8570, Train accuracy 0.3002\n",
            "           : Val loss 1.7234, Val accuracy 0.3118\n",
            "Epoch 5 : Train loss 1.8953, Train accuracy 0.2773\n",
            "           : Val loss 1.6970, Val accuracy 0.3460\n",
            "Epoch 6 : Train loss 1.9523, Train accuracy 0.2644\n",
            "           : Val loss 1.7117, Val accuracy 0.3375\n",
            "Epoch 7 : Train loss 1.9537, Train accuracy 0.2578\n",
            "           : Val loss 1.9539, Val accuracy 0.2061\n",
            "Epoch 8 : Train loss 2.0513, Train accuracy 0.1924\n",
            "           : Val loss 1.9411, Val accuracy 0.1982\n",
            "Epoch 9 : Train loss 4.1006, Train accuracy 0.1228\n",
            "           : Val loss 2.3075, Val accuracy 0.1000\n",
            "Epoch 10 : Train loss 2.4422, Train accuracy 0.1057\n",
            "           : Val loss 2.3043, Val accuracy 0.0998\n"
          ]
        }
      ]
    },
    {
      "cell_type": "code",
      "source": [
        "plt.figure(figsize=(12, 5))\n",
        "plt.subplot(1, 2, 1)\n",
        "plt.plot(adam_train_losses, label='Adam Train Loss')\n",
        "plt.plot(nesterov_train_losses, label='Nesterov Train Loss')\n",
        "plt.title('Training Loss')\n",
        "plt.legend(frameon = False)\n",
        "\n",
        "plt.subplot(1, 2, 2)\n",
        "plt.plot(adam_train_accs, label='Adam Train Accuracy')\n",
        "plt.plot(nesterov_train_accs, label='Nesterov Train Accuracy')\n",
        "plt.title('Training Accuracy')\n",
        "plt.legend(frameon = False)\n",
        "\n",
        "plt.show()"
      ],
      "metadata": {
        "colab": {
          "base_uri": "https://localhost:8080/",
          "height": 468
        },
        "id": "iUHQTNOzC0ly",
        "outputId": "393e4bd6-22c8-442f-b087-541a248e489c"
      },
      "execution_count": 41,
      "outputs": [
        {
          "output_type": "display_data",
          "data": {
            "text/plain": [
              "<Figure size 1200x500 with 2 Axes>"
            ],
            "image/png": "[encoded data removed]"
          },
          "metadata": {}
        }
      ]
    },
    {
      "cell_type": "markdown",
      "source": [
        "__Вывод:__ оптимизатор Adam показал себя лучше, так как он автоматически корректирует скорость обучения для каждого параметра. А ухудшение производительности при использовании Nesterov Momentum может быть связано с неоптимальной настройкой параметров, подбор которых является отдельной задачей :)"
      ],
      "metadata": {
        "id": "3ELnsfbsQCUO"
      }
    },
    {
      "cell_type": "markdown",
      "metadata": {
        "id": "d3aabYCykXL7"
      },
      "source": [
        "### 4.2 Реализация современной функции активации (1 балл).\n",
        "Реализуйте одну из современных функций активации. Например, `Hardswish` или `GELU`. Сравните сеть с вашей активацией и с `ReLU`.\n",
        "\n",
        "**Дополнительные баллы** вы получите, если функция будет уникальна среди сдавших задание."
      ]
    },
    {
      "cell_type": "markdown",
      "source": [
        "Функция GELU вычисляется по следующей формуле:\n",
        "\n",
        "GELU(x) = x * Ф(x), где Ф(x) - это функция нормального распределения (CDF).\n",
        "\n"
      ],
      "metadata": {
        "id": "pjVWIfXD4bGh"
      }
    },
    {
      "cell_type": "code",
      "source": [
        "class GELUFunction(torch.autograd.Function):\n",
        "    @staticmethod\n",
        "    def forward(ctx, x):\n",
        "        ctx.save_for_backward(x)\n",
        "        sigmoid = 1 / (1 + torch.exp(-1.702 * x))\n",
        "        return x * sigmoid\n",
        "\n",
        "    @staticmethod\n",
        "    def backward(ctx, grad_output):\n",
        "        x, = ctx.saved_tensors\n",
        "        sigmoid = 1 / (1 + torch.exp(-1.702 * x))\n",
        "        d_sigmoid = sigmoid * (1 - sigmoid)\n",
        "        return grad_output * (sigmoid + 1.702 * x * d_sigmoid)\n",
        "\n",
        "class GELU(nn.Module):\n",
        "    def __init__(self):\n",
        "        super().__init__()\n",
        "        self.gelu = GELUFunction.apply\n",
        "\n",
        "    def forward(self, input):\n",
        "        return self.gelu(input)"
      ],
      "metadata": {
        "id": "I05-us5c3xXx"
      },
      "execution_count": 42,
      "outputs": []
    },
    {
      "cell_type": "code",
      "source": [
        "import torch\n",
        "import matplotlib.pyplot as plt\n",
        "\n",
        "gelu = GELU()\n",
        "\n",
        "# Генерация тестовых данных\n",
        "x = torch.linspace(-3, 3, 100, dtype=torch.float64, requires_grad=True)\n",
        "y = gelu(x)\n",
        "\n",
        "# Вычисление производной\n",
        "y.backward(torch.ones_like(x))\n",
        "dy = x.grad\n",
        "\n",
        "# Визуализация функции и её производной\n",
        "plt.figure(figsize=(12, 5))\n",
        "plt.subplot(1, 2, 1)\n",
        "plt.plot(x.detach().numpy(), y.detach().numpy(), label=\"GELU\")\n",
        "plt.title(\"GELU Activation Function\")\n",
        "plt.xlabel(\"x\")\n",
        "plt.ylabel(\"GELU(x)\")\n",
        "\n",
        "plt.subplot(1, 2, 2)\n",
        "plt.plot(x.detach().numpy(), dy.detach().numpy(), label=\"GELU'\")\n",
        "plt.title(\"Derivative of GELU\")\n",
        "plt.xlabel(\"x\")\n",
        "plt.ylabel(\"dGELU(x)/dx\")\n",
        "plt.show()"
      ],
      "metadata": {
        "colab": {
          "base_uri": "https://localhost:8080/",
          "height": 487
        },
        "id": "kWYnIEYSDuUp",
        "outputId": "7800a663-d826-471e-9e67-780a81195503"
      },
      "execution_count": 43,
      "outputs": [
        {
          "output_type": "display_data",
          "data": {
            "text/plain": [
              "<Figure size 1200x500 with 2 Axes>"
            ],
            "image/png": "[encoded data removed]"
          },
          "metadata": {}
        }
      ]
    },
    {
      "cell_type": "code",
      "source": [
        "# Проверка градиента\n",
        "test = torch.randn(20, 20, dtype=torch.double, requires_grad=True)\n",
        "test = test.double()  # gradcheck требует double precision\n",
        "assert gradcheck(GELUFunction.apply, test, eps=1e-6, atol=1e-4)"
      ],
      "metadata": {
        "id": "Oe3vfYNIDvxx"
      },
      "execution_count": 45,
      "outputs": []
    },
    {
      "cell_type": "code",
      "source": [
        "class NetworkG(nn.Module):\n",
        "    def __init__(self, input_size=28*28, initial_hidden_size=256, num_layers=5,\n",
        "                 num_classes=10):\n",
        "        super().__init__()\n",
        "\n",
        "\n",
        "        ### YOUR CODE HERE\n",
        "        ### STACK LAYERS WITH DEFINED PARAMETERS\n",
        "        ### USE nn.Dropout, your linear, your relu and whatever you like\n",
        "        ### LAST LAYER SHOULD BE nn.LogSoftmax\n",
        "        layers = []\n",
        "\n",
        "        # Проверка, нужны ли скрытые слои\n",
        "        if num_layers > 1:\n",
        "            hidden_layers_size = initial_hidden_size\n",
        "\n",
        "            # Входной слой\n",
        "            layers.append(Linear(input_size, hidden_layers_size))\n",
        "            layers.append(GELU())\n",
        "            layers.append(nn.Dropout(p=0.25))\n",
        "\n",
        "            # Скрытые слои\n",
        "            for i in range(num_layers - 2):\n",
        "                next_hidden_size = hidden_layers_size // 2  # Уменьшаем размер вдвое\n",
        "                layers.append(Linear(hidden_layers_size, next_hidden_size))\n",
        "                layers.append(GELU())\n",
        "                layers.append(nn.Dropout(p=0.25))\n",
        "\n",
        "                hidden_layers_size = next_hidden_size\n",
        "\n",
        "            # Перед последним слоем\n",
        "            last_layer_input = hidden_layers_size\n",
        "        else:\n",
        "            # Если скрытые слои не используются\n",
        "            last_layer_input = input_size\n",
        "\n",
        "        # Выходной слой\n",
        "        layers.append(Linear(last_layer_input, num_classes))\n",
        "        layers.append(nn.LogSoftmax(dim=1))\n",
        "\n",
        "        self.net = nn.Sequential(*layers)\n",
        "\n",
        "    def forward(self, inp):\n",
        "\n",
        "        ### YOUR CODE HERE\n",
        "        ### APPLY YOUR NET TO THE INPUT\n",
        "        return self.net(inp)"
      ],
      "metadata": {
        "id": "0EA99FN6RFBV"
      },
      "execution_count": 46,
      "outputs": []
    },
    {
      "cell_type": "code",
      "source": [
        "# Инициализация модели\n",
        "model = NetworkG(input_size=28*28, initial_hidden_size=392, num_layers=5, num_classes=10)\n",
        "print(model)\n",
        "\n",
        "# Выбор и инициализация оптимизатора\n",
        "adam_optimizer = torch.optim.Adam(model.parameters(), lr=0.0007)\n",
        "\n",
        "# Запуск обучения с выбранным оптимизатором\n",
        "train_losses, val_losses, train_accs, val_accs = trainer(model, adam_optimizer, num_epochs=30)"
      ],
      "metadata": {
        "colab": {
          "base_uri": "https://localhost:8080/"
        },
        "id": "_7V7U1ItRj53",
        "outputId": "fdc9daea-ef0f-4d65-92b6-8cd2d4dd13b4"
      },
      "execution_count": 47,
      "outputs": [
        {
          "output_type": "stream",
          "name": "stdout",
          "text": [
            "NetworkG(\n",
            "  (net): Sequential(\n",
            "    (0): Linear(784, 392, bias=True)\n",
            "    (1): GELU()\n",
            "    (2): Dropout(p=0.25, inplace=False)\n",
            "    (3): Linear(392, 196, bias=True)\n",
            "    (4): GELU()\n",
            "    (5): Dropout(p=0.25, inplace=False)\n",
            "    (6): Linear(196, 98, bias=True)\n",
            "    (7): GELU()\n",
            "    (8): Dropout(p=0.25, inplace=False)\n",
            "    (9): Linear(98, 49, bias=True)\n",
            "    (10): GELU()\n",
            "    (11): Dropout(p=0.25, inplace=False)\n",
            "    (12): Linear(49, 10, bias=True)\n",
            "    (13): LogSoftmax(dim=1)\n",
            "  )\n",
            ")\n",
            "Epoch 1 : Train loss 4.9288, Train accuracy 0.4057\n",
            "           : Val loss 0.9958, Val accuracy 0.5758\n",
            "Epoch 2 : Train loss 1.1760, Train accuracy 0.5395\n",
            "           : Val loss 0.8664, Val accuracy 0.6238\n",
            "Epoch 3 : Train loss 1.0084, Train accuracy 0.5926\n",
            "           : Val loss 0.8269, Val accuracy 0.6399\n",
            "Epoch 4 : Train loss 0.9061, Train accuracy 0.6424\n",
            "           : Val loss 0.6738, Val accuracy 0.7237\n",
            "Epoch 5 : Train loss 0.8261, Train accuracy 0.6776\n",
            "           : Val loss 0.6903, Val accuracy 0.7163\n",
            "Epoch 6 : Train loss 0.7724, Train accuracy 0.6959\n",
            "           : Val loss 0.6389, Val accuracy 0.7264\n",
            "Epoch 7 : Train loss 0.7494, Train accuracy 0.7037\n",
            "           : Val loss 0.6229, Val accuracy 0.7375\n",
            "Epoch 8 : Train loss 0.7296, Train accuracy 0.7105\n",
            "           : Val loss 0.6236, Val accuracy 0.7411\n",
            "Epoch 9 : Train loss 0.6997, Train accuracy 0.7187\n",
            "           : Val loss 0.6414, Val accuracy 0.7337\n",
            "Epoch 10 : Train loss 0.6913, Train accuracy 0.7232\n",
            "           : Val loss 0.6085, Val accuracy 0.7443\n",
            "Epoch 11 : Train loss 0.6819, Train accuracy 0.7219\n",
            "           : Val loss 0.5933, Val accuracy 0.7399\n",
            "Epoch 12 : Train loss 0.6709, Train accuracy 0.7261\n",
            "           : Val loss 0.5683, Val accuracy 0.7513\n",
            "Epoch 13 : Train loss 0.6554, Train accuracy 0.7310\n",
            "           : Val loss 0.5799, Val accuracy 0.7498\n",
            "Epoch 14 : Train loss 0.6651, Train accuracy 0.7314\n",
            "           : Val loss 0.6059, Val accuracy 0.7491\n",
            "Epoch 15 : Train loss 0.6553, Train accuracy 0.7337\n",
            "           : Val loss 0.5858, Val accuracy 0.7559\n",
            "Epoch 16 : Train loss 0.6638, Train accuracy 0.7276\n",
            "           : Val loss 0.6027, Val accuracy 0.7516\n",
            "Epoch 17 : Train loss 0.6710, Train accuracy 0.7333\n",
            "           : Val loss 0.6041, Val accuracy 0.7443\n",
            "Epoch 18 : Train loss 0.6507, Train accuracy 0.7358\n",
            "           : Val loss 0.6021, Val accuracy 0.7515\n",
            "Epoch 19 : Train loss 0.6456, Train accuracy 0.7371\n",
            "           : Val loss 0.6025, Val accuracy 0.7496\n",
            "Epoch 20 : Train loss 0.6772, Train accuracy 0.7315\n",
            "           : Val loss 0.5884, Val accuracy 0.7596\n",
            "Epoch 21 : Train loss 0.6538, Train accuracy 0.7393\n",
            "           : Val loss 0.5883, Val accuracy 0.7600\n",
            "Epoch 22 : Train loss 0.6460, Train accuracy 0.7396\n",
            "           : Val loss 0.5877, Val accuracy 0.7602\n",
            "Epoch 23 : Train loss 0.6502, Train accuracy 0.7342\n",
            "           : Val loss 0.6001, Val accuracy 0.7476\n",
            "Epoch 24 : Train loss 0.6294, Train accuracy 0.7419\n",
            "           : Val loss 0.5959, Val accuracy 0.7599\n",
            "Epoch 25 : Train loss 0.6464, Train accuracy 0.7394\n",
            "           : Val loss 0.5831, Val accuracy 0.7473\n",
            "Epoch 26 : Train loss 0.6776, Train accuracy 0.7273\n",
            "           : Val loss 0.6413, Val accuracy 0.7508\n",
            "Epoch 27 : Train loss 0.6711, Train accuracy 0.7375\n",
            "           : Val loss 0.5904, Val accuracy 0.7553\n",
            "Epoch 28 : Train loss 0.6580, Train accuracy 0.7372\n",
            "           : Val loss 0.6423, Val accuracy 0.7402\n",
            "Epoch 29 : Train loss 0.6601, Train accuracy 0.7359\n",
            "           : Val loss 0.6028, Val accuracy 0.7473\n",
            "Epoch 30 : Train loss 0.6528, Train accuracy 0.7360\n",
            "           : Val loss 0.6121, Val accuracy 0.7497\n"
          ]
        }
      ]
    },
    {
      "cell_type": "code",
      "source": [
        "plt.plot(train_losses, label = \"Training loss\")\n",
        "plt.plot(val_losses, label = \"Validation loss\")\n",
        "plt.legend(frameon = False)"
      ],
      "metadata": {
        "colab": {
          "base_uri": "https://localhost:8080/",
          "height": 448
        },
        "id": "hFTWj45cR0G2",
        "outputId": "2cc0c2d4-67f9-465d-bbc2-02484a3f66d0"
      },
      "execution_count": 48,
      "outputs": [
        {
          "output_type": "execute_result",
          "data": {
            "text/plain": [
              "<matplotlib.legend.Legend at 0x7ea55c92b5b0>"
            ]
          },
          "metadata": {},
          "execution_count": 48
        },
        {
          "output_type": "display_data",
          "data": {
            "text/plain": [
              "<Figure size 640x480 with 1 Axes>"
            ],
            "image/png": "[encoded data removed]"
          },
          "metadata": {}
        }
      ]
    },
    {
      "cell_type": "code",
      "source": [
        "plt.plot(train_accs, label = \"Training accuracy\")\n",
        "plt.plot(val_accs, label = \"Validation accuracy\")\n",
        "plt.legend(frameon = False)"
      ],
      "metadata": {
        "colab": {
          "base_uri": "https://localhost:8080/",
          "height": 448
        },
        "id": "yrkLLMjVR1XF",
        "outputId": "8c025cf0-22cb-4957-fd02-123cbc5182b9"
      },
      "execution_count": 49,
      "outputs": [
        {
          "output_type": "execute_result",
          "data": {
            "text/plain": [
              "<matplotlib.legend.Legend at 0x7ea55c99c3a0>"
            ]
          },
          "metadata": {},
          "execution_count": 49
        },
        {
          "output_type": "display_data",
          "data": {
            "text/plain": [
              "<Figure size 640x480 with 1 Axes>"
            ],
            "image/png": "[encoded data removed]"
          },
          "metadata": {}
        }
      ]
    },
    {
      "cell_type": "markdown",
      "source": [
        "__Вывод:__ я обучила модель с использованием GELU с теми же настройками, что и с RELU и получила небольшое ухудшение в результатах, но при этом можно сказать, что использование GELU может быть \"конкурентноспособным\". Все очень зависит от архитектуры модели и настройки гиперпараметров. Те параметры, которые хорошо работают для ReLU, могут быть не такими оптимальными для GELU"
      ],
      "metadata": {
        "id": "z7wegWDRR_Ql"
      }
    }
  ],
  "metadata": {
    "accelerator": "GPU",
    "colab": {
      "provenance": [],
      "gpuType": "T4"
    },
    "kernelspec": {
      "display_name": "Python 3",
      "name": "python3"
    },
    "language_info": {
      "codemirror_mode": {
        "name": "ipython",
        "version": 3
      },
      "file_extension": ".py",
      "mimetype": "text/x-python",
      "name": "python",
      "nbconvert_exporter": "python",
      "pygments_lexer": "ipython3",
      "version": "3.7.16"
    },
    "vscode": {
      "interpreter": {
        "hash": "92d26938485ea6bea67bf2e2bb4662b06e39d7cc20cef26f940ca706eab939d3"
      }
    }
  },
  "nbformat": 4,
  "nbformat_minor": 0
}